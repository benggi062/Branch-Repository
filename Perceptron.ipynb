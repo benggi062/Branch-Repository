{
  "nbformat": 4,
  "nbformat_minor": 0,
  "metadata": {
    "colab": {
      "provenance": [],
      "authorship_tag": "ABX9TyN+uNfE/pU2r9HZpIxqROVr",
      "include_colab_link": true
    },
    "kernelspec": {
      "name": "python3",
      "display_name": "Python 3"
    },
    "language_info": {
      "name": "python"
    },
    "accelerator": "GPU",
    "gpuClass": "standard"
  },
  "cells": [
    {
      "cell_type": "markdown",
      "metadata": {
        "id": "view-in-github",
        "colab_type": "text"
      },
      "source": [
        "<a href=\"https://colab.research.google.com/github/benggi062/Branch-Repository/blob/main/Perceptron.ipynb\" target=\"_parent\"><img src=\"https://colab.research.google.com/assets/colab-badge.svg\" alt=\"Open In Colab\"/></a>"
      ]
    },
    {
      "cell_type": "code",
      "execution_count": 3,
      "metadata": {
        "id": "i043pTSvvDL2"
      },
      "outputs": [],
      "source": [
        "import torch\n",
        "import torch.nn as nn"
      ]
    },
    {
      "cell_type": "code",
      "source": [
        "device='cuda' if torch.cuda.is_available() else 'cpu'"
      ],
      "metadata": {
        "id": "zI_IwVUQwsL_"
      },
      "execution_count": 4,
      "outputs": []
    },
    {
      "cell_type": "code",
      "source": [
        "torch.manual_seed(2022)\n",
        "if device=='cuda':\n",
        "  torch.cuda.manual_seed_all(2022)"
      ],
      "metadata": {
        "id": "4Rf8DzExw7lb"
      },
      "execution_count": 5,
      "outputs": []
    },
    {
      "cell_type": "code",
      "source": [
        "X=torch.FloatTensor([\n",
        "    [0,0],\n",
        "    [0,1],\n",
        "    [1,0],\n",
        "    [1,1]\n",
        "]).to(device)\n",
        "Y=torch.FloatTensor([\n",
        "    [0],[1],[1],[0]\n",
        "]).to(device)"
      ],
      "metadata": {
        "id": "24o6yuadxLTD"
      },
      "execution_count": 42,
      "outputs": []
    },
    {
      "cell_type": "code",
      "source": [
        "model=nn.Sequential(\n",
        "    nn.Linear(2,1,bias=True),\n",
        "    nn.Sigmoid()\n",
        ").to(device)"
      ],
      "metadata": {
        "id": "oxw0Ej0ly6Tt"
      },
      "execution_count": 43,
      "outputs": []
    },
    {
      "cell_type": "code",
      "source": [
        "loss_func=torch.nn.BCELoss().to(device)\n",
        "optimizer=torch.optim.SGD(model.parameters(),lr=0.01)"
      ],
      "metadata": {
        "id": "sMm0noyZzlBX"
      },
      "execution_count": 44,
      "outputs": []
    },
    {
      "cell_type": "code",
      "source": [
        "for step in range(20001):\n",
        "  optimizer.zero_grad()\n",
        "\n",
        "  Y_hat=model(X)\n",
        "  loss=loss_func(Y_hat,Y)\n",
        "  loss.backward()\n",
        "  optimizer.step()\n",
        "\n",
        "  if step%1000==0:\n",
        "    print(step,loss.item())"
      ],
      "metadata": {
        "colab": {
          "base_uri": "https://localhost:8080/"
        },
        "id": "Ou8Lb1_90S3e",
        "outputId": "d5451d92-08e9-4ef9-9125-e6b114a59b82"
      },
      "execution_count": 45,
      "outputs": [
        {
          "output_type": "stream",
          "name": "stdout",
          "text": [
            "0 0.7118889093399048\n",
            "1000 0.6975241303443909\n",
            "2000 0.6947857141494751\n",
            "3000 0.693791389465332\n",
            "4000 0.6934113502502441\n",
            "5000 0.6932592391967773\n",
            "6000 0.6931958794593811\n",
            "7000 0.6931686997413635\n",
            "8000 0.6931567192077637\n",
            "9000 0.6931515336036682\n",
            "10000 0.6931490898132324\n",
            "11000 0.693148136138916\n",
            "12000 0.6931475400924683\n",
            "13000 0.6931473612785339\n",
            "14000 0.6931473016738892\n",
            "15000 0.6931472420692444\n",
            "16000 0.6931471824645996\n",
            "17000 0.6931471824645996\n",
            "18000 0.6931471824645996\n",
            "19000 0.6931471824645996\n",
            "20000 0.6931471824645996\n"
          ]
        }
      ]
    },
    {
      "cell_type": "code",
      "source": [
        "with torch.no_grad():\n",
        "  model.eval()\n",
        "  inputs=torch.FloatTensor([\n",
        "    [0,0],\n",
        "    [0,1],\n",
        "    [1,0],\n",
        "    [1,1]\n",
        "  ]).to(device)\n",
        "  outputs=model(inputs)\n",
        "\n",
        "  print(outputs)\n",
        "  print(outputs>0.5)"
      ],
      "metadata": {
        "colab": {
          "base_uri": "https://localhost:8080/"
        },
        "id": "ctwZ55Fb1Rqx",
        "outputId": "1d8320ce-eea3-4303-87ed-62447bfd4a42"
      },
      "execution_count": 46,
      "outputs": [
        {
          "output_type": "stream",
          "name": "stdout",
          "text": [
            "tensor([[0.5000],\n",
            "        [0.5000],\n",
            "        [0.5000],\n",
            "        [0.5000]], device='cuda:0')\n",
            "tensor([[ True],\n",
            "        [ True],\n",
            "        [ True],\n",
            "        [False]], device='cuda:0')\n"
          ]
        }
      ]
    },
    {
      "cell_type": "code",
      "source": [],
      "metadata": {
        "id": "QldviR1z2xvV"
      },
      "execution_count": null,
      "outputs": []
    }
  ]
}